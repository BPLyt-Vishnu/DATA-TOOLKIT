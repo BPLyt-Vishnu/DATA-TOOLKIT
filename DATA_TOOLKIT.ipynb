{
  "nbformat": 4,
  "nbformat_minor": 0,
  "metadata": {
    "colab": {
      "provenance": []
    },
    "kernelspec": {
      "name": "python3",
      "display_name": "Python 3"
    },
    "language_info": {
      "name": "python"
    }
  },
  "cells": [
    {
      "cell_type": "code",
      "execution_count": null,
      "metadata": {
        "id": "LP-7Oq00GI_M"
      },
      "outputs": [],
      "source": [
        "#THEORY ANSWER"
      ]
    },
    {
      "cell_type": "markdown",
      "source": [
        "1. What is NumPy, and why is it widely used in Python?\n",
        "\n",
        "ANSWER:\n",
        "NumPy is a powerful library for numerical computing in Python. It provides a special type of array called `ndarray` that's much more efficient than Python lists, especially for large datasets and numerical operations.\n",
        "It's widely used because it's faster for calculations, has many built-in mathematical functions, and is the foundation for other data science libraries like Pandas."
      ],
      "metadata": {
        "id": "OgMzxMLAGPFA"
      }
    },
    {
      "cell_type": "markdown",
      "source": [
        "2. How does broadcasting work in NumPy?\n",
        "\n",
        "ANSWER:\n",
        "Broadcasting lets NumPy perform arithmetic operations on arrays of different shapes, without the need to make them have the same shape initially. It does this by \"stretching\" the smaller array along dimensions where needed. For example, adding a scalar to a NumPy array is an example of broadcasting."
      ],
      "metadata": {
        "id": "sJK_8yuVGPIl"
      }
    },
    {
      "cell_type": "markdown",
      "source": [
        "3. What is a Pandas DataFrame?\n",
        "\n",
        "ANSWER:\n",
        "A Pandas DataFrame is like a table. It's a 2-dimensional data structure with rows and named columns, where each column can have different data types (numbers, text, etc). It's very versatile for data analysis, cleaning, and manipulation."
      ],
      "metadata": {
        "id": "P98q0-iqGPL-"
      }
    },
    {
      "cell_type": "markdown",
      "source": [
        "4. Explain the use of the groupby() method in Pandas\n",
        "\n",
        "The `groupby()` method lets you group rows in a DataFrame based on the values in one or more columns. After grouping, you can then perform operations like calculating sums, means, or counts for each group. For instance, grouping sales data by region."
      ],
      "metadata": {
        "id": "LvBVv-34GPPt"
      }
    },
    {
      "cell_type": "markdown",
      "source": [
        "5. Why is Seaborn preferred for statistical visualizations?\n",
        "\n",
        "Seaborn is built on top of Matplotlib, and it provides a higher-level interface for creating statistically informative and aesthetically pleasing visualizations, like heatmaps, pairplots, and distributions plots with minimal code."
      ],
      "metadata": {
        "id": "_5MxtHytGPTG"
      }
    },
    {
      "cell_type": "markdown",
      "source": [
        "6. What are the differences between NumPy arrays and Python lists?\n",
        "\n",
        "**NumPy Arrays:** Efficient for numerical operations, fixed data type per array, supports broadcasting, more memory efficient for large data.\n",
        "**Python Lists:** More general purpose, can store different data types in one list, slower for calculations, flexible for adding and removing elements."
      ],
      "metadata": {
        "id": "x_5Bu5ZSGPWf"
      }
    },
    {
      "cell_type": "markdown",
      "source": [
        "7. What is a heatmap, and when should it be used?\n",
        "\n",
        "ANSWER:\n",
        "A heatmap is a visualization where values are represented by color, it is used to visualize correlations between features. Often used for showing correlation matrices."
      ],
      "metadata": {
        "id": "YBFSgunkGPZy"
      }
    },
    {
      "cell_type": "markdown",
      "source": [
        "8. What does the term \"vectorized operation\" mean in NumPy?\n",
        "\n",
        "ANSWER:\n",
        "\"Vectorized operation\" in NumPy means the computation is done element-wise on entire arrays instead of iterating over them with for loops. NumPy takes advantage of optimized code that makes such calculations faster than looping through individual elements in a list."
      ],
      "metadata": {
        "id": "9wuLTMmZGPdf"
      }
    },
    {
      "cell_type": "markdown",
      "source": [
        "9. How does Matplotlib differ from Plotly?\n",
        "\n",
        "ANSWER:\n",
        "**Matplotlib:** More static graphs. It’s used more to get quick and simple visual.\n",
        "**Plotly:** Focus on interactive graphs and charts, offers hover-over details. It's generally better for web-based visualizations."
      ],
      "metadata": {
        "id": "SwFeky-jGPg5"
      }
    },
    {
      "cell_type": "markdown",
      "source": [
        "10. What is the significance of hierarchical indexing in Pandas?\n",
        "\n",
        "ANSWER:\n",
        "Hierarchical indexing (also called multi-level indexing) allows you to have multiple levels of row or column labels. This is useful for working with higher-dimensional data within the 2D DataFrame structure and allows you to have better flexibility when working with data."
      ],
      "metadata": {
        "id": "gSmojJ2zGPkY"
      }
    },
    {
      "cell_type": "markdown",
      "source": [
        " 11. What is the role of Seaborn's pairplot() function?\n",
        "\n",
        "ANSWER:\n",
        " Seaborn's `pairplot()` creates a matrix of scatter plots for all pairs of numerical columns in your data, and it shows distribution plots on the diagonal. Helpful for exploring relationships between multiple features."
      ],
      "metadata": {
        "id": "Z3h4DXXTGPoG"
      }
    },
    {
      "cell_type": "markdown",
      "source": [
        "12. What is the purpose of the describe() function in Pandas?\n",
        "\n",
        "\n",
        "Answer:The `describe()` function provides summary statistics for numerical columns in a DataFrame, like counts, mean, standard deviation, minimum, and maximum values, and percentiles. It's helpful for quickly getting an overview of your data."
      ],
      "metadata": {
        "id": "sWNLaTtLGPr7"
      }
    },
    {
      "cell_type": "markdown",
      "source": [
        "13. Why is handling missing data important in Pandas?\n",
        "\n",
        "ANSWER:\n",
        "Missing data (NaN values) can affect analysis and model performance. Pandas provides tools like `fillna()`, `dropna()` and `isnull()` to help you identify and handle missing data in a way appropriate to the task."
      ],
      "metadata": {
        "id": "sA12mJufGPv3"
      }
    },
    {
      "cell_type": "markdown",
      "source": [
        "14. What are the benefits of using Plotly for data visualization?\n",
        "\n",
        "\n",
        "Answer:Plotly creates beautiful and interactive charts, you can zoom, pan, hover and the graphs can be embedded in websites easily. It’s a great option for online data presentations."
      ],
      "metadata": {
        "id": "fBWS6KpkGPzm"
      }
    },
    {
      "cell_type": "markdown",
      "source": [
        "15. How does NumPy handle multidimensional arrays?\n",
        "\n",
        "\n",
        "Answer: NumPy can handle arrays with any number of dimensions. You can access the dimensions with `shape`."
      ],
      "metadata": {
        "id": "0aWOqNmeGP3N"
      }
    },
    {
      "cell_type": "markdown",
      "source": [
        "16. What is the role of Bokeh in data visualization?\n",
        "Answer:Bokeh is another library for creating interactive web-based visualizations. It integrates well with web applications, offers custom dashboard and charts."
      ],
      "metadata": {
        "id": "dT5q_TqPGP6m"
      }
    },
    {
      "cell_type": "markdown",
      "source": [
        "16. What is the role of Bokeh in data visualization?\n",
        "\n",
        "Answer:Bokeh is another library for creating interactive web-based visualizations. It integrates well with web applications, offers custom dashboard and charts."
      ],
      "metadata": {
        "id": "s8yg63Y7GP-U"
      }
    },
    {
      "cell_type": "markdown",
      "source": [
        "17. Explain the difference between apply() and map() in Pandas.\n",
        "\n",
        "Answer:`map()`: Used on a Series. It maps each value in the series to another value based on a mapping function or dict.\n",
        "`apply()`: Used on Series or DataFrames, it applies a function to each element in a Series or a row or column in a DataFrame. It is more flexible than map."
      ],
      "metadata": {
        "id": "mSoEQdSRGQCK"
      }
    },
    {
      "cell_type": "markdown",
      "source": [
        "18. What are some advanced features of NumPy?\n",
        "Answer:Linear Algebra Operations, Fourier Transforms, Random number generators, Masking and masking indexing."
      ],
      "metadata": {
        "id": "REUNMMfiGQF3"
      }
    },
    {
      "cell_type": "markdown",
      "source": [
        "19. How does Pandas simplify time series analysis?\n",
        "Answer: Pandas has great support for time series data. Its data structures can handle dates and times effectively, and it offers time-based indexing, resampling, shifting, and rolling window calculations."
      ],
      "metadata": {
        "id": "AHMPrPPXGQJt"
      }
    },
    {
      "cell_type": "markdown",
      "source": [
        "20. What is the role of a pivot table in Pandas?\n",
        "Answer:Pivot tables summarize data in a more compact and meaningful way. It lets you reshape your data by aggregating values from one or more columns and organizing them into a new table format, for instance you can calculate the sales total by product and by month"
      ],
      "metadata": {
        "id": "nLLM_xpAGQNp"
      }
    },
    {
      "cell_type": "markdown",
      "source": [
        " 21. Why is NumPy's array slicing faster than Python's list slicing?\n",
        "Answer:NumPy arrays store data in contiguous memory blocks (same type and size) and NumPy uses optimized memory access. Python lists store objects that can be of different types and scattered in memory."
      ],
      "metadata": {
        "id": "85QwVO06GQRe"
      }
    },
    {
      "cell_type": "markdown",
      "source": [
        "22. What are some common use cases for Seaborn?\n",
        "Answer:Exploring relationships between variables, visualize distributions, visualize correlations, compare categories, make appealing presentation ready graphs."
      ],
      "metadata": {
        "id": "EZ-PvZagGQVa"
      }
    },
    {
      "cell_type": "code",
      "source": [
        "#PRACTICAL ANSWER"
      ],
      "metadata": {
        "id": "QD1RcAzmMq_m"
      },
      "execution_count": null,
      "outputs": []
    },
    {
      "cell_type": "markdown",
      "source": [
        ": 1. How do you create a 2D NumPy array and calculate the sum of each row?\n"
      ],
      "metadata": {
        "id": "LmGxDkHiMuvx"
      }
    },
    {
      "cell_type": "code",
      "source": [
        "import numpy as np\n",
        "\n",
        "arr = np.array([[1, 2, 3], [4, 5, 6], [7, 8, 9]])\n",
        "row_sums = np.sum(arr, axis=1)\n",
        "print(row_sums)"
      ],
      "metadata": {
        "id": "6a4YlsWTMu5J"
      },
      "execution_count": null,
      "outputs": []
    },
    {
      "cell_type": "markdown",
      "source": [
        "2. Write a Pandas script to find the mean of a specific column in a DataFrame.\n"
      ],
      "metadata": {
        "id": "IpT1OzPqMvDB"
      }
    },
    {
      "cell_type": "code",
      "source": [
        "import pandas as pd\n",
        "\n",
        "data = {'col1': [1, 2, 3, 4, 5], 'col2': [10, 20, 30, 40, 50]}\n",
        "df = pd.DataFrame(data)\n",
        "mean_col2 = df['col2'].mean()\n",
        "print(mean_col2)"
      ],
      "metadata": {
        "id": "i4zIqIQNMvYw"
      },
      "execution_count": null,
      "outputs": []
    },
    {
      "cell_type": "markdown",
      "source": [
        "3. Create a scatter plot using Matplotlib.\n"
      ],
      "metadata": {
        "id": "nKq5a8NFMvmA"
      }
    },
    {
      "cell_type": "code",
      "source": [
        "import matplotlib.pyplot as plt\n",
        "\n",
        "x = [1, 2, 3, 4, 5]\n",
        "y = [2, 4, 1, 3, 5]\n",
        "plt.scatter(x, y)\n",
        "plt.xlabel('X Axis')\n",
        "plt.ylabel('Y Axis')\n",
        "plt.title('Scatter Plot')\n",
        "plt.show()"
      ],
      "metadata": {
        "id": "6qjGe9tBMvwT"
      },
      "execution_count": null,
      "outputs": []
    },
    {
      "cell_type": "markdown",
      "source": [
        "4. How do you calculate the correlation matrix using Seaborn and visualize it with a heatmap?\n"
      ],
      "metadata": {
        "id": "UCQqD8LWMv8r"
      }
    },
    {
      "cell_type": "code",
      "source": [
        "import seaborn as sns\n",
        "import pandas as pd\n",
        "import matplotlib.pyplot as plt\n",
        "\n",
        "data = {'A': [1, 2, 3, 4, 5], 'B': [2, 4, 1, 3, 5], 'C': [5, 4, 3, 2, 1]}\n",
        "df = pd.DataFrame(data)\n",
        "corr_matrix = df.corr()\n",
        "sns.heatmap(corr_matrix, annot=True, cmap='coolwarm')\n",
        "plt.title('Correlation Matrix')\n",
        "plt.show()"
      ],
      "metadata": {
        "id": "qIWfVrSrMwHC"
      },
      "execution_count": null,
      "outputs": []
    },
    {
      "cell_type": "markdown",
      "source": [
        "5. Generate a bar plot using Plotly.\n"
      ],
      "metadata": {
        "id": "QjRKecfdMwRN"
      }
    },
    {
      "cell_type": "code",
      "source": [
        "import plotly.express as px\n",
        "\n",
        "categories = ['A', 'B', 'C', 'D']\n",
        "values = [20, 40, 30, 50]\n",
        "fig = px.bar(x=categories, y=values, title='Bar Plot')\n",
        "fig.show()"
      ],
      "metadata": {
        "id": "5hjeBppLMwac"
      },
      "execution_count": null,
      "outputs": []
    },
    {
      "cell_type": "markdown",
      "source": [
        "6. Create a DataFrame and add a new column based on an existing column.\n"
      ],
      "metadata": {
        "id": "adMLbhMMMwjp"
      }
    },
    {
      "cell_type": "code",
      "source": [
        "import pandas as pd\n",
        "\n",
        "data = {'numbers': [1, 2, 3, 4, 5]}\n",
        "df = pd.DataFrame(data)\n",
        "df['numbers_squared'] = df['numbers']**2\n",
        "print(df)"
      ],
      "metadata": {
        "id": "kvriDotZMwu8"
      },
      "execution_count": null,
      "outputs": []
    },
    {
      "cell_type": "markdown",
      "source": [
        "7. Write a program to perform element-wise multiplication of two NumPy arrays.\n"
      ],
      "metadata": {
        "id": "MhCTRy6tMw3H"
      }
    },
    {
      "cell_type": "code",
      "source": [
        "import numpy as np\n",
        "\n",
        "arr1 = np.array([1, 2, 3])\n",
        "arr2 = np.array([4, 5, 6])\n",
        "result = arr1 * arr2\n",
        "print(result)"
      ],
      "metadata": {
        "id": "sWSwTSPvMxA6"
      },
      "execution_count": null,
      "outputs": []
    },
    {
      "cell_type": "markdown",
      "source": [
        "8. Create a line plot with multiple lines using Matplotlib.\n"
      ],
      "metadata": {
        "id": "e3-EocR5MxI8"
      }
    },
    {
      "cell_type": "code",
      "source": [
        "import matplotlib.pyplot as plt\n",
        "\n",
        "x = [1, 2, 3, 4, 5]\n",
        "y1 = [2, 4, 1, 3, 5]\n",
        "y2 = [1, 3, 2, 4, 3]\n",
        "plt.plot(x, y1, label='Line 1')\n",
        "plt.plot(x, y2, label='Line 2')\n",
        "plt.xlabel('X Axis')\n",
        "plt.ylabel('Y Axis')\n",
        "plt.title('Multiple Lines')\n",
        "plt.legend()\n",
        "plt.show()"
      ],
      "metadata": {
        "id": "Q-zXfQKuMxSW"
      },
      "execution_count": null,
      "outputs": []
    },
    {
      "cell_type": "markdown",
      "source": [
        " 9. Generate a Pandas DataFrame and filter rows where a column value is greater than a threshold.\n"
      ],
      "metadata": {
        "id": "J1b4adKSMxbl"
      }
    },
    {
      "cell_type": "code",
      "source": [
        "import pandas as pd\n",
        "\n",
        "data = {'values': [10, 20, 30, 40, 50]}\n",
        "df = pd.DataFrame(data)\n",
        "threshold = 30\n",
        "filtered_df = df[df['values'] > threshold]\n",
        "print(filtered_df)"
      ],
      "metadata": {
        "id": "F7Y4k7lMMxkr"
      },
      "execution_count": null,
      "outputs": []
    },
    {
      "cell_type": "markdown",
      "source": [
        "10. Create a histogram using Seaborn to visualize a distribution.\n"
      ],
      "metadata": {
        "id": "5woebqLgMxt4"
      }
    },
    {
      "cell_type": "code",
      "source": [
        "import seaborn as sns\n",
        "import matplotlib.pyplot as plt\n",
        "import numpy as np\n",
        "\n",
        "data = np.random.randn(1000)\n",
        "sns.histplot(data, kde=True)\n",
        "plt.title('Histogram')\n",
        "plt.show()"
      ],
      "metadata": {
        "id": "131B_jKtMx2I"
      },
      "execution_count": null,
      "outputs": []
    },
    {
      "cell_type": "markdown",
      "source": [
        "11. Perform matrix multiplication using NumPy.\n"
      ],
      "metadata": {
        "id": "Tn1-pq6xMyAc"
      }
    },
    {
      "cell_type": "code",
      "source": [
        "import numpy as np\n",
        "\n",
        "matrix1 = np.array([[1, 2], [3, 4]])\n",
        "matrix2 = np.array([[5, 6], [7, 8]])\n",
        "result = np.dot(matrix1, matrix2)\n",
        "print(result)"
      ],
      "metadata": {
        "id": "5tnqc9RYMyI0"
      },
      "execution_count": null,
      "outputs": []
    },
    {
      "cell_type": "markdown",
      "source": [
        "12. Use Pandas to load a CSV file and display its first 5 rows.\n"
      ],
      "metadata": {
        "id": "y1Gx2Di-MyRh"
      }
    },
    {
      "cell_type": "code",
      "source": [
        "import pandas as pd\n",
        "\n",
        "# Assuming you have a file named 'data.csv' in the same folder\n",
        "df = pd.read_csv('data.csv')\n",
        "print(df.head())"
      ],
      "metadata": {
        "id": "UxY9cejGMyaG"
      },
      "execution_count": null,
      "outputs": []
    },
    {
      "cell_type": "markdown",
      "source": [
        "13. Create a 3D scatter plot using Plotly.\n"
      ],
      "metadata": {
        "id": "jV839aWxMyhQ"
      }
    },
    {
      "cell_type": "code",
      "source": [
        "import plotly.express as px\n",
        "\n",
        "x = [1, 2, 3, 4, 5]\n",
        "y = [2, 4, 1, 3, 5]\n",
        "z = [5, 1, 4, 2, 3]\n",
        "fig = px.scatter_3d(x=x, y=y, z=z, title='3D Scatter Plot')\n",
        "fig.show()"
      ],
      "metadata": {
        "id": "NFPTLqFiMy1W"
      },
      "execution_count": null,
      "outputs": []
    }
  ]
}